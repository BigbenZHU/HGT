{
 "cells": [
  {
   "attachments": {},
   "cell_type": "markdown",
   "metadata": {},
   "source": [
    "<h2 style = \"font-family: garamond; font-size: 24px; font-style: normal; letter-spcaing: 3px; background-color:#36609A ; color :#FFCE30 ; border-radius: 5px 5px; padding:10px;text-align:center; font-weight: bold\" >Numerical Simulation of Horizontal Gene Transfer in A Competitive Lotka-Volterra Model </h2 > \n",
    "<h2 style = \"font-family: Times New Roman; font-size: 18px; font-style: normal; letter-spcaing: 3px; background-color:#36609A; color : #FFCE30 ; border-radius: 5px 5px; padding:3px;text-align:center; font-weight: bold\" >Shiben Zhu,Teng Wang<br/>Feb 11,2023<br/>Email：shiben@link.cuhk.edu.hk</h2> \n",
    "</div>"
   ]
  },
  {
   "cell_type": "code",
   "execution_count": 31,
   "metadata": {},
   "outputs": [],
   "source": [
    "#import modules\n",
    "import time,scipy\n",
    "import numpy as np,pandas as pd,matplotlib.pyplot as plt\n",
    "from scipy import integrate\n",
    "T1=time.perf_counter()#the code running time at the beginning\n",
    "\n",
    "'''define different functions'''\n",
    "# HGT basic equations\n",
    "def HGT(t,p,NumSpecies,speed,fitness,effection,hgt,dilution,lost):\n",
    "    equation=[]#empty list to collect the equations\n",
    "    for i in list(range(NumSpecies)):\n",
    "        for j in list(range(NumSpecies)):\n",
    "            #creat three values to collect values\n",
    "            #pai is continuous multiplication, set the initial value is a constant speed[i]\n",
    "            #total is continuous summation,set the initial value is zero\n",
    "            #sigma iscontinuous summation,set the initial value is zero\n",
    "            pai,total,sigma=speed[i],0,0\n",
    "            for k in list(range(NumSpecies)):\n",
    "                pai*=(1+fitness[k]*p[i*NumSpecies+k]/p[i*NumSpecies+i])#'*=' means pai=pai*constant\n",
    "                total+=effection[k,i]*p[k*NumSpecies+k]#'+=' means total=total+constant\n",
    "                sigma+=p[k*NumSpecies+j]#'+=' means sigma=sigma+constant\n",
    "                \n",
    "            if i==j:\n",
    "                eq1=pai*p[i*NumSpecies+i]*(1-total)-dilution*p[i*NumSpecies+i]#first equation\n",
    "                equation.append(eq1) # add the first equation to the empty list one by one\n",
    "            else:\n",
    "                pai/=(1+fitness[j]*p[i*NumSpecies+j]/p[i*NumSpecies+i])#exclude the condition when k=j,'/=' means pai=pai/constant\n",
    "                eq2=pai*(1+fitness[j])*p[i*NumSpecies+j]*(1-total)+hgt*sigma*(p[i*NumSpecies+i]-p[i*NumSpecies+j])-(dilution+lost)*p[i*NumSpecies+j]#the second equation\n",
    "                equation.append(eq2) # add the second equation to the empty list one by one\n",
    "            \n",
    "    return equation\n",
    "\n",
    "#randomize speed to get the matrix and caculate the probability by the matrix\n",
    "def probability(threshod,Numspeed_rand,timespan,initial,NumSpecies,speed,effection,hgt,dilution,lost,positions):\n",
    "    z=[]#empty list to collect the values\n",
    "    \n",
    "    for k in list(range(Numspeed_rand)):\n",
    "        fitness=-0.1+0.2*np.random.rand(NumSpecies)#plasmid fitness values\n",
    "        #get the answer of the equation\n",
    "        sol=scipy.integrate.solve_ivp(HGT,\n",
    "                                    t_span=timespan,\n",
    "                                    y0=initial,\n",
    "                                    method='RK45',\n",
    "                                    args=(NumSpecies,speed,fitness,effection,hgt,dilution,lost),\n",
    "                                    dense_output=True)\n",
    "        s=sol.sol(timespan[1])[positions]\n",
    "        z.append(np.min(s))# add the minum value to the empty list one by one\n",
    "        \n",
    "    '''calculate the probability!!!'''\n",
    "    p=1-((np.round(z,decimals=len(str(threshod))-2).tolist().count(0))/Numspeed_rand)#the probability\n",
    "    \n",
    "    return p"
   ]
  },
  {
   "cell_type": "code",
   "execution_count": null,
   "metadata": {},
   "outputs": [],
   "source": []
  },
  {
   "cell_type": "code",
   "execution_count": 32,
   "metadata": {},
   "outputs": [
    {
     "name": "stdout",
     "output_type": "stream",
     "text": [
      "The 0th result(probability=0.0) needs 0minutes in the loop\n",
      "The 1th result(probability=0.0) needs 0minutes in the loop\n",
      "The 2th result(probability=0.010000000000000009) needs 0minutes in the loop\n",
      "The 3th result(probability=0.020000000000000018) needs 0minutes in the loop\n",
      "The 4th result(probability=0.0) needs 0minutes in the loop\n",
      "The 5th result(probability=0.020000000000000018) needs 0minutes in the loop\n",
      "The 6th result(probability=0.010000000000000009) needs 0minutes in the loop\n",
      "The 7th result(probability=0.040000000000000036) needs 0minutes in the loop\n",
      "The 8th result(probability=0.010000000000000009) needs 0minutes in the loop\n",
      "The 9th result(probability=0.030000000000000027) needs 0minutes in the loop\n",
      "The 10th result(probability=0.0) needs 0minutes in the loop\n",
      "The 11th result(probability=0.040000000000000036) needs 0minutes in the loop\n",
      "The 12th result(probability=0.030000000000000027) needs 0minutes in the loop\n"
     ]
    },
    {
     "ename": "KeyboardInterrupt",
     "evalue": "",
     "output_type": "error",
     "traceback": [
      "\u001b[1;31m---------------------------------------------------------------------------\u001b[0m",
      "\u001b[1;31mKeyboardInterrupt\u001b[0m                         Traceback (most recent call last)",
      "\u001b[1;32mc:\\Users\\zhubi\\OneDrive\\2.Wang Teng\\2023-2Competitive Lotka–Volterra equations\\HGT.ipynb Cell 4\u001b[0m in \u001b[0;36m<cell line: 13>\u001b[1;34m()\u001b[0m\n\u001b[0;32m     <a href='vscode-notebook-cell:/c%3A/Users/zhubi/OneDrive/2.Wang%20Teng/2023-2Competitive%20Lotka%E2%80%93Volterra%20equations/HGT.ipynb#W2sZmlsZQ%3D%3D?line=21'>22</a>\u001b[0m \u001b[39mfor\u001b[39;00m et,eta \u001b[39min\u001b[39;00m \u001b[39menumerate\u001b[39m(hgt):\n\u001b[0;32m     <a href='vscode-notebook-cell:/c%3A/Users/zhubi/OneDrive/2.Wang%20Teng/2023-2Competitive%20Lotka%E2%80%93Volterra%20equations/HGT.ipynb#W2sZmlsZQ%3D%3D?line=22'>23</a>\u001b[0m     T3\u001b[39m=\u001b[39mtime\u001b[39m.\u001b[39mperf_counter()\u001b[39m#the code initial running time in the loop\u001b[39;00m\n\u001b[1;32m---> <a href='vscode-notebook-cell:/c%3A/Users/zhubi/OneDrive/2.Wang%20Teng/2023-2Competitive%20Lotka%E2%80%93Volterra%20equations/HGT.ipynb#W2sZmlsZQ%3D%3D?line=23'>24</a>\u001b[0m     pos\u001b[39m=\u001b[39mprobability(threshod,Numspeed_rand,timespan,initial,NumSpecies,speed,effection,eta,dilution,lost,positions)\n\u001b[0;32m     <a href='vscode-notebook-cell:/c%3A/Users/zhubi/OneDrive/2.Wang%20Teng/2023-2Competitive%20Lotka%E2%80%93Volterra%20equations/HGT.ipynb#W2sZmlsZQ%3D%3D?line=24'>25</a>\u001b[0m     Possibility\u001b[39m=\u001b[39mpd\u001b[39m.\u001b[39mconcat([Possibility,pd\u001b[39m.\u001b[39mDataFrame({\u001b[39m'\u001b[39m\u001b[39m\\u03B7\u001b[39;00m\u001b[39m'\u001b[39m:[eta],\u001b[39m'\u001b[39m\u001b[39mProbability\u001b[39m\u001b[39m'\u001b[39m:[pos]})],axis\u001b[39m=\u001b[39m\u001b[39m0\u001b[39m)\u001b[39m#creat a dataframe to save the results\u001b[39;00m\n\u001b[0;32m     <a href='vscode-notebook-cell:/c%3A/Users/zhubi/OneDrive/2.Wang%20Teng/2023-2Competitive%20Lotka%E2%80%93Volterra%20equations/HGT.ipynb#W2sZmlsZQ%3D%3D?line=25'>26</a>\u001b[0m     T4\u001b[39m=\u001b[39mtime\u001b[39m.\u001b[39mperf_counter()\u001b[39m#the code last running time in the loop\u001b[39;00m\n",
      "\u001b[1;32mc:\\Users\\zhubi\\OneDrive\\2.Wang Teng\\2023-2Competitive Lotka–Volterra equations\\HGT.ipynb Cell 4\u001b[0m in \u001b[0;36mprobability\u001b[1;34m(threshod, Numspeed_rand, timespan, initial, NumSpecies, speed, effection, hgt, dilution, lost, positions)\u001b[0m\n\u001b[0;32m     <a href='vscode-notebook-cell:/c%3A/Users/zhubi/OneDrive/2.Wang%20Teng/2023-2Competitive%20Lotka%E2%80%93Volterra%20equations/HGT.ipynb#W2sZmlsZQ%3D%3D?line=37'>38</a>\u001b[0m fitness\u001b[39m=\u001b[39m\u001b[39m-\u001b[39m\u001b[39m0.1\u001b[39m\u001b[39m+\u001b[39m\u001b[39m0.2\u001b[39m\u001b[39m*\u001b[39mnp\u001b[39m.\u001b[39mrandom\u001b[39m.\u001b[39mrand(NumSpecies)\u001b[39m#plasmid fitness values\u001b[39;00m\n\u001b[0;32m     <a href='vscode-notebook-cell:/c%3A/Users/zhubi/OneDrive/2.Wang%20Teng/2023-2Competitive%20Lotka%E2%80%93Volterra%20equations/HGT.ipynb#W2sZmlsZQ%3D%3D?line=38'>39</a>\u001b[0m \u001b[39m#get the answer of the equation\u001b[39;00m\n\u001b[1;32m---> <a href='vscode-notebook-cell:/c%3A/Users/zhubi/OneDrive/2.Wang%20Teng/2023-2Competitive%20Lotka%E2%80%93Volterra%20equations/HGT.ipynb#W2sZmlsZQ%3D%3D?line=39'>40</a>\u001b[0m sol\u001b[39m=\u001b[39mscipy\u001b[39m.\u001b[39;49mintegrate\u001b[39m.\u001b[39;49msolve_ivp(HGT,\n\u001b[0;32m     <a href='vscode-notebook-cell:/c%3A/Users/zhubi/OneDrive/2.Wang%20Teng/2023-2Competitive%20Lotka%E2%80%93Volterra%20equations/HGT.ipynb#W2sZmlsZQ%3D%3D?line=40'>41</a>\u001b[0m                             t_span\u001b[39m=\u001b[39;49mtimespan,\n\u001b[0;32m     <a href='vscode-notebook-cell:/c%3A/Users/zhubi/OneDrive/2.Wang%20Teng/2023-2Competitive%20Lotka%E2%80%93Volterra%20equations/HGT.ipynb#W2sZmlsZQ%3D%3D?line=41'>42</a>\u001b[0m                             y0\u001b[39m=\u001b[39;49minitial,\n\u001b[0;32m     <a href='vscode-notebook-cell:/c%3A/Users/zhubi/OneDrive/2.Wang%20Teng/2023-2Competitive%20Lotka%E2%80%93Volterra%20equations/HGT.ipynb#W2sZmlsZQ%3D%3D?line=42'>43</a>\u001b[0m                             method\u001b[39m=\u001b[39;49m\u001b[39m'\u001b[39;49m\u001b[39mRK45\u001b[39;49m\u001b[39m'\u001b[39;49m,\n\u001b[0;32m     <a href='vscode-notebook-cell:/c%3A/Users/zhubi/OneDrive/2.Wang%20Teng/2023-2Competitive%20Lotka%E2%80%93Volterra%20equations/HGT.ipynb#W2sZmlsZQ%3D%3D?line=43'>44</a>\u001b[0m                             args\u001b[39m=\u001b[39;49m(NumSpecies,speed,fitness,effection,hgt,dilution,lost),\n\u001b[0;32m     <a href='vscode-notebook-cell:/c%3A/Users/zhubi/OneDrive/2.Wang%20Teng/2023-2Competitive%20Lotka%E2%80%93Volterra%20equations/HGT.ipynb#W2sZmlsZQ%3D%3D?line=44'>45</a>\u001b[0m                             dense_output\u001b[39m=\u001b[39;49m\u001b[39mTrue\u001b[39;49;00m)\n\u001b[0;32m     <a href='vscode-notebook-cell:/c%3A/Users/zhubi/OneDrive/2.Wang%20Teng/2023-2Competitive%20Lotka%E2%80%93Volterra%20equations/HGT.ipynb#W2sZmlsZQ%3D%3D?line=45'>46</a>\u001b[0m s\u001b[39m=\u001b[39msol\u001b[39m.\u001b[39msol(timespan[\u001b[39m1\u001b[39m])[positions]\n\u001b[0;32m     <a href='vscode-notebook-cell:/c%3A/Users/zhubi/OneDrive/2.Wang%20Teng/2023-2Competitive%20Lotka%E2%80%93Volterra%20equations/HGT.ipynb#W2sZmlsZQ%3D%3D?line=46'>47</a>\u001b[0m z\u001b[39m.\u001b[39mappend(np\u001b[39m.\u001b[39mmin(s))\u001b[39m# add the minum value to the empty list one by one\u001b[39;00m\n",
      "File \u001b[1;32mc:\\ProgramData\\Anaconda3\\lib\\site-packages\\scipy\\integrate\\_ivp\\ivp.py:576\u001b[0m, in \u001b[0;36msolve_ivp\u001b[1;34m(fun, t_span, y0, method, t_eval, dense_output, events, vectorized, args, **options)\u001b[0m\n\u001b[0;32m    574\u001b[0m status \u001b[39m=\u001b[39m \u001b[39mNone\u001b[39;00m\n\u001b[0;32m    575\u001b[0m \u001b[39mwhile\u001b[39;00m status \u001b[39mis\u001b[39;00m \u001b[39mNone\u001b[39;00m:\n\u001b[1;32m--> 576\u001b[0m     message \u001b[39m=\u001b[39m solver\u001b[39m.\u001b[39;49mstep()\n\u001b[0;32m    578\u001b[0m     \u001b[39mif\u001b[39;00m solver\u001b[39m.\u001b[39mstatus \u001b[39m==\u001b[39m \u001b[39m'\u001b[39m\u001b[39mfinished\u001b[39m\u001b[39m'\u001b[39m:\n\u001b[0;32m    579\u001b[0m         status \u001b[39m=\u001b[39m \u001b[39m0\u001b[39m\n",
      "File \u001b[1;32mc:\\ProgramData\\Anaconda3\\lib\\site-packages\\scipy\\integrate\\_ivp\\base.py:181\u001b[0m, in \u001b[0;36mOdeSolver.step\u001b[1;34m(self)\u001b[0m\n\u001b[0;32m    179\u001b[0m \u001b[39melse\u001b[39;00m:\n\u001b[0;32m    180\u001b[0m     t \u001b[39m=\u001b[39m \u001b[39mself\u001b[39m\u001b[39m.\u001b[39mt\n\u001b[1;32m--> 181\u001b[0m     success, message \u001b[39m=\u001b[39m \u001b[39mself\u001b[39;49m\u001b[39m.\u001b[39;49m_step_impl()\n\u001b[0;32m    183\u001b[0m     \u001b[39mif\u001b[39;00m \u001b[39mnot\u001b[39;00m success:\n\u001b[0;32m    184\u001b[0m         \u001b[39mself\u001b[39m\u001b[39m.\u001b[39mstatus \u001b[39m=\u001b[39m \u001b[39m'\u001b[39m\u001b[39mfailed\u001b[39m\u001b[39m'\u001b[39m\n",
      "File \u001b[1;32mc:\\ProgramData\\Anaconda3\\lib\\site-packages\\scipy\\integrate\\_ivp\\rk.py:144\u001b[0m, in \u001b[0;36mRungeKutta._step_impl\u001b[1;34m(self)\u001b[0m\n\u001b[0;32m    141\u001b[0m h \u001b[39m=\u001b[39m t_new \u001b[39m-\u001b[39m t\n\u001b[0;32m    142\u001b[0m h_abs \u001b[39m=\u001b[39m np\u001b[39m.\u001b[39mabs(h)\n\u001b[1;32m--> 144\u001b[0m y_new, f_new \u001b[39m=\u001b[39m rk_step(\u001b[39mself\u001b[39;49m\u001b[39m.\u001b[39;49mfun, t, y, \u001b[39mself\u001b[39;49m\u001b[39m.\u001b[39;49mf, h, \u001b[39mself\u001b[39;49m\u001b[39m.\u001b[39;49mA,\n\u001b[0;32m    145\u001b[0m                        \u001b[39mself\u001b[39;49m\u001b[39m.\u001b[39;49mB, \u001b[39mself\u001b[39;49m\u001b[39m.\u001b[39;49mC, \u001b[39mself\u001b[39;49m\u001b[39m.\u001b[39;49mK)\n\u001b[0;32m    146\u001b[0m scale \u001b[39m=\u001b[39m atol \u001b[39m+\u001b[39m np\u001b[39m.\u001b[39mmaximum(np\u001b[39m.\u001b[39mabs(y), np\u001b[39m.\u001b[39mabs(y_new)) \u001b[39m*\u001b[39m rtol\n\u001b[0;32m    147\u001b[0m error_norm \u001b[39m=\u001b[39m \u001b[39mself\u001b[39m\u001b[39m.\u001b[39m_estimate_error_norm(\u001b[39mself\u001b[39m\u001b[39m.\u001b[39mK, h, scale)\n",
      "File \u001b[1;32mc:\\ProgramData\\Anaconda3\\lib\\site-packages\\scipy\\integrate\\_ivp\\rk.py:63\u001b[0m, in \u001b[0;36mrk_step\u001b[1;34m(fun, t, y, f, h, A, B, C, K)\u001b[0m\n\u001b[0;32m     61\u001b[0m K[\u001b[39m0\u001b[39m] \u001b[39m=\u001b[39m f\n\u001b[0;32m     62\u001b[0m \u001b[39mfor\u001b[39;00m s, (a, c) \u001b[39min\u001b[39;00m \u001b[39menumerate\u001b[39m(\u001b[39mzip\u001b[39m(A[\u001b[39m1\u001b[39m:], C[\u001b[39m1\u001b[39m:]), start\u001b[39m=\u001b[39m\u001b[39m1\u001b[39m):\n\u001b[1;32m---> 63\u001b[0m     dy \u001b[39m=\u001b[39m np\u001b[39m.\u001b[39;49mdot(K[:s]\u001b[39m.\u001b[39;49mT, a[:s]) \u001b[39m*\u001b[39m h\n\u001b[0;32m     64\u001b[0m     K[s] \u001b[39m=\u001b[39m fun(t \u001b[39m+\u001b[39m c \u001b[39m*\u001b[39m h, y \u001b[39m+\u001b[39m dy)\n\u001b[0;32m     66\u001b[0m y_new \u001b[39m=\u001b[39m y \u001b[39m+\u001b[39m h \u001b[39m*\u001b[39m np\u001b[39m.\u001b[39mdot(K[:\u001b[39m-\u001b[39m\u001b[39m1\u001b[39m]\u001b[39m.\u001b[39mT, B)\n",
      "File \u001b[1;32m<__array_function__ internals>:5\u001b[0m, in \u001b[0;36mdot\u001b[1;34m(*args, **kwargs)\u001b[0m\n",
      "\u001b[1;31mKeyboardInterrupt\u001b[0m: "
     ]
    }
   ],
   "source": [
    "'''Competitive Lotka-Volterra equations'''\n",
    "#initial values\n",
    "threshod=0.00001#keep how many decimals\n",
    "Numspeed_rand=1000#the times of randomizing speed\n",
    "timespan=[0,2000]#time span\n",
    "hgt=list(np.linspace(start=0,stop=0.4,num=100))#the level of Horizontal Gene Transfer\n",
    "dilution=0.2#dilution value\n",
    "lost=0.02#lost value\n",
    "Possibility=pd.DataFrame()#creat an empty dataframe to collect and show the probability results\n",
    "\n",
    "Num=list(range(2,40,1))##the number of Species\n",
    "\n",
    "for NumSpecies in Num:\n",
    "    positions=[x*NumSpecies+x for x in list(range(NumSpecies))]#find the positions when i=j which will help find the results in the loop\n",
    "    media=np.random.rand(NumSpecies,NumSpecies)\n",
    "    initial=((np.eye(NumSpecies,NumSpecies)*(media.max()-media.min())+media)/(media.max()-media.min()+1)).reshape(NumSpecies*NumSpecies)#initial Pij values\n",
    "    speed=0.4*np.ones(NumSpecies)\n",
    "    effection=0.8+0.1*np.random.rand(NumSpecies,NumSpecies)#interactive values\n",
    "    for j in list(range(NumSpecies)):effection[j,j]=1\n",
    "\n",
    "    # creat a loop to get the result\n",
    "    for et,eta in enumerate(hgt):\n",
    "        T3=time.perf_counter()#the code initial running time in the loop\n",
    "        pos=probability(threshod,Numspeed_rand,timespan,initial,NumSpecies,speed,effection,eta,dilution,lost,positions)\n",
    "        Possibility=pd.concat([Possibility,pd.DataFrame({'\\u03B7':[eta],'Probability':[pos]})],axis=0)#creat a dataframe to save the results\n",
    "        T4=time.perf_counter()#the code last running time in the loop\n",
    "        print('The {num}th result(probability={probability}) needs {min}minutes in the loop'.format(num=et,\n",
    "                                                                                                    probability=pos,\n",
    "                                                                                                    min=round((T4-T3)/60)))#show the time once in the loop\n",
    "\n",
    "    '''Save and show the results'''\n",
    "    Possibility.reset_index(drop=True).to_excel('NumSpecies{NumSpecies}_Numspeed_rand{Numspeed_rand}.xlsx'.format(NumSpecies=NumSpecies,Numspeed_rand=Numspeed_rand))   \n",
    "\n",
    "    plt.plot(Possibility[Possibility.columns[0]],Possibility[Possibility.columns[1]])#plot the curve\n",
    "    plt.xlabel(Possibility.columns[0])#x-axis name\n",
    "    plt.ylabel('Possibility')#y-axis name\n",
    "    plt.title('Mulitiple Lotka-Volterra System with {label}'.format(label=Possibility.columns[0]))#figure name\n",
    "    plt.savefig('NumSpecies{NumSpecies}_Numspeed_rand{Numspeed_rand}.png'.format(NumSpecies=NumSpecies,Numspeed_rand=Numspeed_rand))\n",
    "    print('the figure of Mulitiple Lotka-Volterra System with {label} is successfully plotted.'.format(label=Possibility.columns[0]))\n",
    "    T2=time.perf_counter()#the code running time at the end\n",
    "    print('Total Time Consumption of The Model Codes:%s minutes'%(round((T2-T1)/60)))"
   ]
  },
  {
   "attachments": {},
   "cell_type": "markdown",
   "metadata": {},
   "source": [
    "<h2 style = \"font-family: Times New Roman; font-size: 18px; font-style: normal; letter-spcaing: 3px; background-color:#36609A; color : #FFCE30 ; border-radius: 5px 5px; padding:3px;text-align:center; font-weight: bold\" >------------------------------------The End------------------------------------</h2> \n",
    "</div>"
   ]
  }
 ],
 "metadata": {
  "kernelspec": {
   "display_name": "base",
   "language": "python",
   "name": "python3"
  },
  "language_info": {
   "codemirror_mode": {
    "name": "ipython",
    "version": 3
   },
   "file_extension": ".py",
   "mimetype": "text/x-python",
   "name": "python",
   "nbconvert_exporter": "python",
   "pygments_lexer": "ipython3",
   "version": "3.9.12"
  },
  "orig_nbformat": 4,
  "vscode": {
   "interpreter": {
    "hash": "ad2bdc8ecc057115af97d19610ffacc2b4e99fae6737bb82f5d7fb13d2f2c186"
   }
  }
 },
 "nbformat": 4,
 "nbformat_minor": 2
}
