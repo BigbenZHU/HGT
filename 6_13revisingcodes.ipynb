{
 "cells": [
  {
   "attachments": {},
   "cell_type": "markdown",
   "metadata": {},
   "source": [
    "The curve of GLV equation at once"
   ]
  },
  {
   "cell_type": "code",
   "execution_count": 304,
   "metadata": {},
   "outputs": [
    {
     "data": {
      "text/plain": [
       "[<matplotlib.lines.Line2D at 0x1c28f191e40>,\n",
       " <matplotlib.lines.Line2D at 0x1c28f191ea0>,\n",
       " <matplotlib.lines.Line2D at 0x1c28f191ed0>,\n",
       " <matplotlib.lines.Line2D at 0x1c28f191fc0>,\n",
       " <matplotlib.lines.Line2D at 0x1c28f1920b0>,\n",
       " <matplotlib.lines.Line2D at 0x1c28f1921a0>,\n",
       " <matplotlib.lines.Line2D at 0x1c28f192290>,\n",
       " <matplotlib.lines.Line2D at 0x1c28f192380>,\n",
       " <matplotlib.lines.Line2D at 0x1c28f192470>,\n",
       " <matplotlib.lines.Line2D at 0x1c28f192560>]"
      ]
     },
     "execution_count": 304,
     "metadata": {},
     "output_type": "execute_result"
    },
    {
     "data": {
      "image/png": "[encoded data removed]",
      "text/plain": [
       "<Figure size 500x500 with 1 Axes>"
      ]
     },
     "metadata": {},
     "output_type": "display_data"
    }
   ],
   "source": [
    "import scipy\n",
    "import numpy as np,matplotlib.pyplot as plt\n",
    "\n",
    "#basic equations definition\n",
    "def equations(t,y,Sigma,NumSpecies,speed,effection,dilution):\n",
    "    eq=[]\n",
    "    for i in list(range(NumSpecies)):\n",
    "        temp=effection[:,i]*y\n",
    "        PosSum=np.sum(temp[temp>0])\n",
    "        NegSum=np.sum(temp[temp<0])\n",
    "        eq.append(speed[i]*y[i]*(1+NegSum+Sigma[i]*PosSum/(1+PosSum))-dilution*y[i])\n",
    "    return eq\n",
    "\n",
    "#GLV equations simulation\n",
    "def GLV(timespan,initial,Sigma,NumSpecies,speed,effection,dilution):\n",
    "    sol=scipy.integrate.solve_ivp(equations,\n",
    "                                  t_span=timespan,\n",
    "                                  y0=initial,\n",
    "                                  method='RK45',\n",
    "                                  args=(Sigma,NumSpecies,speed,effection,dilution),\n",
    "                                  dense_output=True)\n",
    "    \n",
    "    return sol\n",
    "\n",
    "#try different parameters to find the best range\n",
    "NumSpecies=10\n",
    "timespan=[0,2000]\n",
    "\n",
    "initialtemp=np.random.rand(NumSpecies)\n",
    "initial=initialtemp/np.sum(initialtemp)\n",
    "\n",
    "Sigma=0.5*np.random.rand(NumSpecies)\n",
    "m0=0.3+0.5*np.random.rand()\n",
    "w0=0.4*np.random.rand()\n",
    "speed=m0+w0*np.random.rand(NumSpecies)\n",
    "m1=0.4+1.3*(1-np.random.rand()**3)\n",
    "w1=0.4*np.random.rand()\n",
    "temp=np.random.rand()\n",
    "matrix=(-1)**(np.random.rand(NumSpecies,NumSpecies)<(1-temp**2)).astype('float')\n",
    "matrix[matrix==1]=matrix[matrix==1]/np.random.randint(low=2,high=5,size=matrix[matrix==1].shape)\n",
    "effection=matrix*(m1-w1+2*w1*np.random.rand(NumSpecies,NumSpecies))*(np.random.rand(NumSpecies,NumSpecies)<(1-temp**2))\n",
    "for same in list(range(NumSpecies)):effection[same,same]=-1\n",
    "dilution=0.1+0.1*np.random.rand()\n",
    "plt.figure(figsize=(5,5))\n",
    "\n",
    "abundance=GLV(timespan,initial,Sigma,NumSpecies,speed,effection,dilution).sol(np.linspace(0,timespan[1],timespan[1])).T\n",
    "#print('initial:',initial,'\\nspeed:',speed,'\\neffection:',effection,'\\ndilution:',dilution)\n",
    "plt.plot(np.linspace(0,timespan[1],timespan[1]),abundance)"
   ]
  },
  {
   "attachments": {},
   "cell_type": "markdown",
   "metadata": {},
   "source": [
    "Generate the dataset"
   ]
  },
  {
   "cell_type": "code",
   "execution_count": 310,
   "metadata": {},
   "outputs": [],
   "source": [
    "import scipy,time\n",
    "import numpy as np,pandas as pd,matplotlib.pyplot as plt\n",
    "from numpy.random import rand as rd\n",
    "\n",
    "def equations(t,y,NumSpecies,growth_rate,Sigma,interaction,dilution):\n",
    "    eq=[]\n",
    "    for i in range(NumSpecies):\n",
    "        temp=interaction[:,i]*y\n",
    "        PosSum=np.sum(temp[temp>0])\n",
    "        NegSum=np.sum(temp[temp<0])\n",
    "        eq.append(growth_rate[i]*y[i]*(1+NegSum+Sigma[i]*PosSum/(1+PosSum))-dilution*y[i])\n",
    "    return eq\n",
    "\n",
    "def GLV(timespan,initial,NumSpecies,growth_rate,Sigma,interaction,dilution):\n",
    "    sol=scipy.integrate.solve_ivp(equations,\n",
    "                                  t_span=timespan,\n",
    "                                  y0=initial,\n",
    "                                  method='RK45',\n",
    "                                  args=(NumSpecies,growth_rate,Sigma,interaction,dilution),\n",
    "                                  dense_output=True)\n",
    "    return sol.sol(timespan[1])\n",
    "\n",
    "def euler(result,threshold):\n",
    "    for x in range(result.size):\n",
    "        result['percentage'][x]=tuple(result['percentage'][x])\n",
    "        for y in range(x,result.size):\n",
    "            if np.sqrt(np.sum(np.square(np.array(result['percentage'][x])-np.array(result['percentage'][y]))))<threshold:\n",
    "                result['percentage'][y]=tuple(result['percentage'][x])\n",
    "            else:\n",
    "                result['percentage'][y]=tuple(result['percentage'][y])\n",
    "    return result.drop_duplicates(subset=['percentage']).size,result.value_counts().tolist()/np.sum(result.value_counts().tolist())\n",
    "\n",
    "def func(NumSpecies,timespan,reapt,threshold,showindex):\n",
    "    start_time=time.time()\n",
    "    result=pd.DataFrame(columns=['parameters','condition','percentage'])\n",
    "    for i in range(reapt[0]):\n",
    "        Sigma=0.5*rd(NumSpecies)\n",
    "        growth_rate=0.3+0.5*rd()+0.4*rd()*rd(NumSpecies)\n",
    "        tempt=(-1)**(rd(NumSpecies,NumSpecies)<(1-0.2*rd()**2)).astype('float')\n",
    "        tempt[tempt==1]=tempt[tempt==1]/np.random.randint(low=2,high=5,size=tempt[tempt==1].shape)\n",
    "        interaction=tempt*(0.4+1.3*(1-rd()**3)-0.4*rd()+2*0.4*rd()*rd(NumSpecies,NumSpecies))*(rd(NumSpecies,NumSpecies)<(1-0.2*rd()**2))\n",
    "        for index in range(NumSpecies):interaction[index,index]=-1\n",
    "        dilution=0.1+0.1*rd()\n",
    "        if i%showindex==0:print(i,'th Loop cumcost:',int((time.time()-start_time)/60),'minutes')\n",
    "        loop=pd.DataFrame(columns=['percentage'])\n",
    "        for j in range(reapt[1]):\n",
    "            initialtemp=rd(NumSpecies)\n",
    "            initial=initialtemp/np.sum(initialtemp)\n",
    "            loop.at[j,'percentage']=GLV(timespan,initial,NumSpecies,growth_rate,Sigma,interaction,dilution)\n",
    "            \n",
    "        result.at[i,'parameters']=np.concatenate((growth_rate,\n",
    "                                                  Sigma,\n",
    "                                                  interaction[~np.eye(interaction.shape[0],dtype=bool)].reshape(-1),\n",
    "                                                  dilution),axis=None)\n",
    "        result.at[i,'condition'],result.at[i,'percentage']=euler(loop,threshold)\n",
    "    #result.to_excel('NumSpecies{a}reapt{b}.xlsx'.format(a=NumSpecies,b=reapt[0]*reapt[1]))\n",
    "    return result"
   ]
  },
  {
   "attachments": {},
   "cell_type": "markdown",
   "metadata": {},
   "source": [
    "Generate dataset by multiple CPU cores"
   ]
  },
  {
   "cell_type": "code",
   "execution_count": 35,
   "metadata": {},
   "outputs": [
    {
     "name": "stdout",
     "output_type": "stream",
     "text": [
      "0 th Loop cumcost: 0 minutes\n",
      "0 th Loop cumcost: 0 minutes\n",
      "0 th Loop cumcost: 0 minutes\n",
      "0 th Loop cumcost: 0 minutes\n",
      "0 th Loop cumcost: 0 minutes\n",
      "0 th Loop cumcost: 0 minutes\n",
      "0 th Loop cumcost: 0 minutes\n",
      "0 th Loop cumcost: 0 minutes\n",
      "0 th Loop cumcost: 0 minutes\n",
      "0 th Loop cumcost: 0 minutes\n",
      "0 th Loop cumcost: 0 minutes\n",
      "0 th Loop cumcost: 0 minutes\n"
     ]
    }
   ],
   "source": [
    "import multiprocessing \n",
    "if __name__=='__main__':\n",
    "    NumSpecies=10\n",
    "    timespan=[0,1500]\n",
    "    reapt=[1,10]\n",
    "    threshold=0.1\n",
    "    showindex=10\n",
    "    n_cores =multiprocessing.cpu_count()\n",
    "    \n",
    "    # Create list of parameter sets\n",
    "    parameters = []\n",
    "    for i in range(n_cores):\n",
    "        parameters.append((NumSpecies,timespan,reapt,threshold,showindex))\n",
    "    \n",
    "    # Create processes\n",
    "    processes = []\n",
    "    for params in parameters:\n",
    "        process = multiprocessing.Process(target=func, args=params)\n",
    "        process.start()\n",
    "        processes.append(process)\n",
    "    \n",
    "    # Join processes and collect results\n",
    "    process_results = []\n",
    "    for process in processes:\n",
    "        process.join()\n",
    "        process_results.append(func(*params))\n",
    "    \n",
    "    # Concatenate all DataFrames\n",
    "    final_df = pd.concat(process_results).reset_index(drop=True)\n",
    "    "
   ]
  },
  {
   "attachments": {},
   "cell_type": "markdown",
   "metadata": {},
   "source": [
    "Scan the final results"
   ]
  },
  {
   "cell_type": "code",
   "execution_count": 36,
   "metadata": {},
   "outputs": [
    {
     "data": {
      "text/html": [
       "<div>\n",
       "<style scoped>\n",
       "    .dataframe tbody tr th:only-of-type {\n",
       "        vertical-align: middle;\n",
       "    }\n",
       "\n",
       "    .dataframe tbody tr th {\n",
       "        vertical-align: top;\n",
       "    }\n",
       "\n",
       "    .dataframe thead th {\n",
       "        text-align: right;\n",
       "    }\n",
       "</style>\n",
       "<table border=\"1\" class=\"dataframe\">\n",
       "  <thead>\n",
       "    <tr style=\"text-align: right;\">\n",
       "      <th></th>\n",
       "      <th>parameters</th>\n",
       "      <th>condition</th>\n",
       "      <th>percentage</th>\n",
       "    </tr>\n",
       "  </thead>\n",
       "  <tbody>\n",
       "    <tr>\n",
       "      <th>0</th>\n",
       "      <td>[0.35910174413467594, 0.3588790963110707, 0.36...</td>\n",
       "      <td>1</td>\n",
       "      <td>[1.0]</td>\n",
       "    </tr>\n",
       "    <tr>\n",
       "      <th>1</th>\n",
       "      <td>[0.40760265039893334, 0.433736307572962, 0.388...</td>\n",
       "      <td>3</td>\n",
       "      <td>[0.4, 0.3, 0.3]</td>\n",
       "    </tr>\n",
       "    <tr>\n",
       "      <th>2</th>\n",
       "      <td>[0.9014429174368691, 0.6795643120377396, 0.916...</td>\n",
       "      <td>2</td>\n",
       "      <td>[0.9, 0.1]</td>\n",
       "    </tr>\n",
       "    <tr>\n",
       "      <th>3</th>\n",
       "      <td>[0.9893231654699162, 1.0059379759265532, 0.800...</td>\n",
       "      <td>2</td>\n",
       "      <td>[0.7, 0.3]</td>\n",
       "    </tr>\n",
       "    <tr>\n",
       "      <th>4</th>\n",
       "      <td>[0.7942954100388313, 0.780288836195435, 0.7647...</td>\n",
       "      <td>1</td>\n",
       "      <td>[1.0]</td>\n",
       "    </tr>\n",
       "    <tr>\n",
       "      <th>5</th>\n",
       "      <td>[0.5698354398580108, 0.7812064139556694, 0.766...</td>\n",
       "      <td>3</td>\n",
       "      <td>[0.5, 0.3, 0.2]</td>\n",
       "    </tr>\n",
       "    <tr>\n",
       "      <th>6</th>\n",
       "      <td>[0.4539298572035051, 0.6229469297484245, 0.769...</td>\n",
       "      <td>2</td>\n",
       "      <td>[0.9, 0.1]</td>\n",
       "    </tr>\n",
       "    <tr>\n",
       "      <th>7</th>\n",
       "      <td>[0.4998463422083447, 0.5303127384237747, 0.603...</td>\n",
       "      <td>1</td>\n",
       "      <td>[1.0]</td>\n",
       "    </tr>\n",
       "    <tr>\n",
       "      <th>8</th>\n",
       "      <td>[0.7593138970993404, 0.7464524867232577, 0.733...</td>\n",
       "      <td>1</td>\n",
       "      <td>[1.0]</td>\n",
       "    </tr>\n",
       "    <tr>\n",
       "      <th>9</th>\n",
       "      <td>[0.6891985367216762, 0.7356908795003999, 0.687...</td>\n",
       "      <td>1</td>\n",
       "      <td>[1.0]</td>\n",
       "    </tr>\n",
       "    <tr>\n",
       "      <th>10</th>\n",
       "      <td>[0.47711964819985675, 0.322014401226425, 0.564...</td>\n",
       "      <td>3</td>\n",
       "      <td>[0.4, 0.3, 0.3]</td>\n",
       "    </tr>\n",
       "    <tr>\n",
       "      <th>11</th>\n",
       "      <td>[0.7482434251277337, 0.8574724329384035, 0.773...</td>\n",
       "      <td>3</td>\n",
       "      <td>[0.6, 0.2, 0.2]</td>\n",
       "    </tr>\n",
       "  </tbody>\n",
       "</table>\n",
       "</div>"
      ],
      "text/plain": [
       "                                           parameters condition  \\\n",
       "0   [0.35910174413467594, 0.3588790963110707, 0.36...         1   \n",
       "1   [0.40760265039893334, 0.433736307572962, 0.388...         3   \n",
       "2   [0.9014429174368691, 0.6795643120377396, 0.916...         2   \n",
       "3   [0.9893231654699162, 1.0059379759265532, 0.800...         2   \n",
       "4   [0.7942954100388313, 0.780288836195435, 0.7647...         1   \n",
       "5   [0.5698354398580108, 0.7812064139556694, 0.766...         3   \n",
       "6   [0.4539298572035051, 0.6229469297484245, 0.769...         2   \n",
       "7   [0.4998463422083447, 0.5303127384237747, 0.603...         1   \n",
       "8   [0.7593138970993404, 0.7464524867232577, 0.733...         1   \n",
       "9   [0.6891985367216762, 0.7356908795003999, 0.687...         1   \n",
       "10  [0.47711964819985675, 0.322014401226425, 0.564...         3   \n",
       "11  [0.7482434251277337, 0.8574724329384035, 0.773...         3   \n",
       "\n",
       "         percentage  \n",
       "0             [1.0]  \n",
       "1   [0.4, 0.3, 0.3]  \n",
       "2        [0.9, 0.1]  \n",
       "3        [0.7, 0.3]  \n",
       "4             [1.0]  \n",
       "5   [0.5, 0.3, 0.2]  \n",
       "6        [0.9, 0.1]  \n",
       "7             [1.0]  \n",
       "8             [1.0]  \n",
       "9             [1.0]  \n",
       "10  [0.4, 0.3, 0.3]  \n",
       "11  [0.6, 0.2, 0.2]  "
      ]
     },
     "execution_count": 36,
     "metadata": {},
     "output_type": "execute_result"
    }
   ],
   "source": [
    "final_df"
   ]
  },
  {
   "attachments": {},
   "cell_type": "markdown",
   "metadata": {},
   "source": [
    "Compare with normal codes"
   ]
  },
  {
   "cell_type": "code",
   "execution_count": 315,
   "metadata": {},
   "outputs": [
    {
     "name": "stdout",
     "output_type": "stream",
     "text": [
      "0 th Loop cumcost: 0 minutes\n"
     ]
    },
    {
     "data": {
      "text/html": [
       "<div>\n",
       "<style scoped>\n",
       "    .dataframe tbody tr th:only-of-type {\n",
       "        vertical-align: middle;\n",
       "    }\n",
       "\n",
       "    .dataframe tbody tr th {\n",
       "        vertical-align: top;\n",
       "    }\n",
       "\n",
       "    .dataframe thead th {\n",
       "        text-align: right;\n",
       "    }\n",
       "</style>\n",
       "<table border=\"1\" class=\"dataframe\">\n",
       "  <thead>\n",
       "    <tr style=\"text-align: right;\">\n",
       "      <th></th>\n",
       "      <th>parameters</th>\n",
       "      <th>condition</th>\n",
       "      <th>percentage</th>\n",
       "    </tr>\n",
       "  </thead>\n",
       "  <tbody>\n",
       "    <tr>\n",
       "      <th>0</th>\n",
       "      <td>[0.4174653231848831, 0.42809799917380525, 0.51...</td>\n",
       "      <td>2</td>\n",
       "      <td>[0.7, 0.3]</td>\n",
       "    </tr>\n",
       "  </tbody>\n",
       "</table>\n",
       "</div>"
      ],
      "text/plain": [
       "                                          parameters condition  percentage\n",
       "0  [0.4174653231848831, 0.42809799917380525, 0.51...         2  [0.7, 0.3]"
      ]
     },
     "metadata": {},
     "output_type": "display_data"
    }
   ],
   "source": [
    "result=func(NumSpecies=10,timespan=[0,1500],reapt=[1,10],threshold=0.1,showindex=100)\n",
    "display(result)"
   ]
  },
  {
   "attachments": {},
   "cell_type": "markdown",
   "metadata": {},
   "source": [
    "Choose the right threshold"
   ]
  },
  {
   "cell_type": "code",
   "execution_count": 1,
   "metadata": {},
   "outputs": [
    {
     "data": {
      "text/plain": [
       "0.0    49995000\n",
       "dtype: int64"
      ]
     },
     "metadata": {},
     "output_type": "display_data"
    }
   ],
   "source": [
    "import scipy,time\n",
    "import numpy as np,pandas as pd,matplotlib.pyplot as plt\n",
    "from numpy.random import rand as rd\n",
    "\n",
    "def equations(t,y,NumSpecies,growth_rate,Sigma,interaction,dilution):\n",
    "    eq=[]\n",
    "    for i in range(NumSpecies):\n",
    "        temp=interaction[:,i]*y\n",
    "        PosSum=np.sum(temp[temp>0])\n",
    "        NegSum=np.sum(temp[temp<0])\n",
    "        eq.append(growth_rate[i]*y[i]*(1+NegSum+Sigma[i]*PosSum/(1+PosSum))-dilution*y[i])\n",
    "    return eq\n",
    "\n",
    "def GLV(timespan,initial,NumSpecies,growth_rate,Sigma,interaction,dilution):\n",
    "    sol=scipy.integrate.solve_ivp(equations,\n",
    "                                  t_span=timespan,\n",
    "                                  y0=initial,\n",
    "                                  method='RK45',\n",
    "                                  args=(NumSpecies,growth_rate,Sigma,interaction,dilution),\n",
    "                                  dense_output=True)\n",
    "    return sol.sol(timespan[1])\n",
    "\n",
    "def euler(result,threshold):\n",
    "    for x in range(result.size):\n",
    "        result['percentage'][x]=tuple(result['percentage'][x])\n",
    "        for y in range(x,result.size):\n",
    "            if np.sqrt(np.sum(np.square(np.array(result['percentage'][x])-np.array(result['percentage'][y]))))<threshold:\n",
    "                result['percentage'][y]=tuple(result['percentage'][x])\n",
    "            else:\n",
    "                result['percentage'][y]=tuple(result['percentage'][y])\n",
    "    return result.drop_duplicates(subset=['percentage']).size,result.value_counts().tolist()/np.sum(result.value_counts().tolist())\n",
    "\n",
    "def func(NumSpecies,timespan,reapt,threshold,showindex):\n",
    "    start_time=time.time()\n",
    "\n",
    "    Sigma=0.5*rd(NumSpecies)\n",
    "    growth_rate=0.3+0.5*rd()+0.4*rd()*rd(NumSpecies)\n",
    "    tempt=(-1)**(rd(NumSpecies,NumSpecies)<(1-0.2*rd()**2)).astype('float')\n",
    "    tempt[tempt==1]=tempt[tempt==1]/np.random.randint(low=2,high=5,size=tempt[tempt==1].shape)\n",
    "    interaction=tempt*(0.4+1.3*(1-rd()**3)-0.4*rd()+2*0.4*rd()*rd(NumSpecies,NumSpecies))*(rd(NumSpecies,NumSpecies)<(1-0.2*rd()**2))\n",
    "    for index in range(NumSpecies):interaction[index,index]=-1\n",
    "    dilution=0.1+0.1*rd()\n",
    "    loop=pd.DataFrame(columns=['percentage'])\n",
    "    for j in range(reapt[1]):\n",
    "        initialtemp=rd(NumSpecies)\n",
    "        initial=initialtemp/np.sum(initialtemp)\n",
    "        loop.at[j,'percentage']=GLV(timespan,initial,NumSpecies,growth_rate,Sigma,interaction,dilution)\n",
    "    return loop\n",
    "\n",
    "loop=func(NumSpecies=10,timespan=[0,1500],reapt=[0,10000],threshold=0.1,showindex=10)\n",
    "\n",
    "distance=[]\n",
    "for i in range(loop.size):\n",
    "    #loop['percentage'][i]=tuple(loop['percentage'][i])\n",
    "    for j in range(i+1,loop.size):\n",
    "        distance.append(np.round(np.sqrt(np.sum(np.square(np.array(loop['percentage'][i])-np.array(loop['percentage'][j])))),decimals=5))\n",
    "my_count = pd.Series(distance).value_counts()\n",
    "display(my_count)"
   ]
  },
  {
   "cell_type": "code",
   "execution_count": 2,
   "metadata": {},
   "outputs": [
    {
     "data": {
      "text/plain": [
       "<matplotlib.patches.StepPatch at 0x2de6a757d30>"
      ]
     },
     "execution_count": 2,
     "metadata": {},
     "output_type": "execute_result"
    },
    {
     "data": {
      "image/png": "[encoded data removed]",
      "text/plain": [
       "<Figure size 640x480 with 1 Axes>"
      ]
     },
     "metadata": {},
     "output_type": "display_data"
    }
   ],
   "source": [
    "counts, bins = np.histogram(distance)\n",
    "plt.stairs(counts, bins)"
   ]
  },
  {
   "cell_type": "code",
   "execution_count": 6,
   "metadata": {},
   "outputs": [
    {
     "data": {
      "image/png": "[encoded data removed]",
      "text/plain": [
       "<Figure size 640x480 with 1 Axes>"
      ]
     },
     "metadata": {},
     "output_type": "display_data"
    }
   ],
   "source": [
    "plt.plot(my_count.index,my_count.values,'.',markersize=1)\n",
    "plt.show()"
   ]
  }
 ],
 "metadata": {
  "kernelspec": {
   "display_name": "base",
   "language": "python",
   "name": "python3"
  },
  "language_info": {
   "codemirror_mode": {
    "name": "ipython",
    "version": 3
   },
   "file_extension": ".py",
   "mimetype": "text/x-python",
   "name": "python",
   "nbconvert_exporter": "python",
   "pygments_lexer": "ipython3",
   "version": "3.10.9"
  },
  "orig_nbformat": 4
 },
 "nbformat": 4,
 "nbformat_minor": 2
}
